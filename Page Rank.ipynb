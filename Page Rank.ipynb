{
 "cells": [
  {
   "cell_type": "markdown",
   "metadata": {},
   "source": [
    "## Page Rank\n",
    "\n",
    "My notes for Page Rank, pictures are taken from the course slides.\n",
    "\n",
    "#### Flow Formulation\n",
    "\n",
    "Consider the following graph\n",
    "\n",
    "![Graph](SampleGraph.png)\n",
    "\n",
    "The Importance of a node is the proportional to the importance of the incoming node\n",
    "\n",
    "thus \n",
    "\n",
    "$r_y\\:=\\:\\frac{r_y}{2} + \\frac{r_a}{2}$\n",
    "\n",
    "$r_a\\:=\\:\\frac{r_y}{2} + r_m$\n",
    "\n",
    "$r_m\\:=\\:\\frac{r_a}{2}$\n",
    "\n",
    "We can therefore say\n",
    "$r_j\\:=\\:\\sum_{i \\to y}\\frac{r_i}{d_i}$\n",
    "\n",
    "where $d_i$ is the out degree of node i. We add additional constraint $r_y+r_m+r_a = 1$. We can use gaussian elimination to solve these three unknown with the four available equations.\n",
    "\n",
    "#### Matrix formulation.\n",
    "\n",
    "The above formulation can be expressed in terms of matrix. If we have a link between i and j $i \\to j$, then we set $M_{ji} = \\frac{1}{d_i}$ else set $M_{ji} = 0$. By doing this we ensure that the sum of values in the column add to 1. In other words, M is column stochastic.\n",
    "\n",
    "For the matrix M, if we read values across the rows, we essentially see all the incoming edges and their weight.\n",
    "\n",
    "Recall for all $i \\to j$, we have $r_j\\:=\\:\\sum_{i \\to y}\\frac{r_i}{d_i}$ We therefore can express the above formulation in matrix form as $r\\:=\\:M \\cdot r$. Also for the above graph, the flow equations given above can be expressed as matrix as follows\n",
    "\n",
    "$\\begin{bmatrix}\n",
    "    r_y \\\\\n",
    "    r_a \\\\\n",
    "    r_m  \n",
    "\\end{bmatrix}$\n",
    "=\n",
    "$\\begin{bmatrix}\n",
    "    \\frac{1}{2}       & \\frac{1}{2} & 0 \\\\\n",
    "    \\frac{1}{2}      & 0 & 1 \\\\\n",
    "    0       & \\frac{1}{2} & 0  \n",
    "\\end{bmatrix} \\cdot$\n",
    "$\\begin{bmatrix}\n",
    "    r_y \\\\\n",
    "    r_a \\\\\n",
    "    y_m  \n",
    "\\end{bmatrix}$\n",
    "\n",
    "\n",
    "Lets compute the pagerank below by finding eigen vectors and values"
   ]
  },
  {
   "cell_type": "code",
   "execution_count": 1,
   "metadata": {},
   "outputs": [
    {
     "name": "stdout",
     "output_type": "stream",
     "text": [
      "Page ranks are  [[ 0.40000001  0.40000001  0.2       ]]\n"
     ]
    }
   ],
   "source": [
    "from numpy import linalg as LA\n",
    "import numpy as np\n",
    "M = np.matrix([[0.5, 0.5, 0], [0.5, 0, 1], [0, 0.5, 0]], dtype = np.float32) #for float64 we get rounding error\n",
    "ev, evec = LA.eig(M)\n",
    "ranks = evec[:, ev == 1]\n",
    "#ranks need to sum up to 1, normalize them\n",
    "ranks /= sum(ranks)\n",
    "print('Page ranks are ', ranks.flatten())"
   ]
  },
  {
   "cell_type": "markdown",
   "metadata": {},
   "source": [
    "\n",
    "#### Power Iteration Method\n",
    "\n",
    "The following method is power iteration methos where we iterate to solve $r = M \\cdot r$ \n",
    "till $\\vert r^{(t)} - r^{(t + 1)} \\vert < \\epsilon$. Let us implement Power iteration method below"
   ]
  },
  {
   "cell_type": "code",
   "execution_count": 2,
   "metadata": {},
   "outputs": [
    {
     "name": "stdout",
     "output_type": "stream",
     "text": [
      "Page rank by power iteration is  [[ 0.4  0.4  0.2]] , found in 81  iterations\n"
     ]
    }
   ],
   "source": [
    "def pagerank_pi(M, epsilon = 0.00000001, max_iterations = 200):\n",
    "    numpages = M.shape[1]\n",
    "    r = np.matrix(np.ones(numpages)).reshape((-1, 1)) / numpages\n",
    "    r_new = M * r\n",
    "    iters = 1\n",
    "    while np.max(np.abs(r_new - r)) > epsilon:\n",
    "        if iters > max_iterations:\n",
    "            raise Exception('Max iterations reached, algorithms not yet converged')\n",
    "        r = r_new\n",
    "        r_new = M * r\n",
    "        iters += 1\n",
    "    \n",
    "    return r_new, iters\n",
    "\n",
    "\n",
    "r, iters = pagerank_pi(M)\n",
    "print('Page rank by power iteration is ', r.flatten(), ', found in', iters, ' iterations')"
   ]
  },
  {
   "cell_type": "markdown",
   "metadata": {},
   "source": [
    "#### Random Walk Interpretation\n",
    "\n",
    "Suppose a surfer is on node i of the graph at time t, the surfer can go to node j which can be reached from the outlinks of node i at time t + 1 and the process repeats indefinitely.\n",
    "\n",
    "Let P(t) be a vector whose $i^{th}$ element denote the probability we are on node i at time t. Thus p(t) is the probability distribution over pages in the graph.\n",
    "\n",
    "$p(t +1) = M \\cdot p(t)$\n",
    "\n",
    "when $p(t +1) = M \\cdot p(t) = p(t)$, random walk reaches a stationary state.\n",
    "\n",
    "#### Problems\n",
    "\n",
    "##### Spider trap Problem\n",
    "\n",
    "Consider the following graph\n",
    "\n",
    "![SpiderTrap](SpiderTrap.png)\n",
    "\n",
    "We will recursively loop betweem the two and never converge.\n",
    "\n",
    "##### Dead End problem.\n",
    "\n",
    "The following problem represents the Deadend problem\n",
    "\n",
    "![DeadEnd](DeadEnd.png)\n",
    "\n",
    "The problem ends with imbalanced probablity distribution with both weights zeroed out ( weights leak out)."
   ]
  },
  {
   "cell_type": "code",
   "execution_count": 3,
   "metadata": {},
   "outputs": [
    {
     "name": "stdout",
     "output_type": "stream",
     "text": [
      "M is\n",
      " [[ 0.5  0.5  0. ]\n",
      " [ 0.5  0.   0. ]\n",
      " [ 0.   0.5  1. ]]\n",
      "\n",
      "Rank for graph with spider trap is  [[  2.58264849e-08   1.59616455e-08   9.99999958e-01]]\n",
      "\n",
      "M is\n",
      " [[ 0.5  0.5  0. ]\n",
      " [ 0.5  0.   0. ]\n",
      " [ 0.   0.5  0. ]]\n",
      "\n",
      "Rank for graph with dead end is  [[  3.94593577e-08   2.43872243e-08   1.50721335e-08]]\n"
     ]
    }
   ],
   "source": [
    "#Spider trap problem\n",
    "M = np.matrix([[0.5, 0.5, 0], [0.5, 0, 0], [0, 0.5, 1]], dtype = np.float32)\n",
    "print('M is\\n', M)\n",
    "rank, _ = pagerank_pi(M)\n",
    "print('\\nRank for graph with spider trap is ', rank.flatten())\n",
    "\n",
    "#Dead end problem\n",
    "M = np.matrix([[0.5, 0.5, 0], [0.5, 0, 0], [0, 0.5, 0]], dtype = np.float32)\n",
    "print('\\nM is\\n', M)\n",
    "rank, _ = pagerank_pi(M)\n",
    "print('\\nRank for graph with dead end is ', rank.flatten())"
   ]
  },
  {
   "cell_type": "markdown",
   "metadata": {},
   "source": [
    "\n",
    "As we see above the node with a self loop and no other outgoing edge got weight of all nodes other than itself  reduced to nearly 0 (reducing to a value less then epsilon).\n",
    "\n",
    "On other hand, dead ends make the matrix non column stochastic as there those columns dont add up to 1. Also the weights leak out reducing the weights of all the nodex to 0 (reducing to a value less then epsilon).\n",
    "\n",
    "A solution to dead ends is to teleport. Teleporting ensures that the matrix is column stochastic and ensures when we reach a dead end node, we jump to any node in the graph (including itself) with equal probability. To below is the implementation of power iteration with teleporting"
   ]
  },
  {
   "cell_type": "code",
   "execution_count": 4,
   "metadata": {},
   "outputs": [],
   "source": [
    "def pagerank_with_teleport(M, epsilon = 0.00000001, max_iterations = 200):\n",
    "    nodes = M.shape[1]\n",
    "    col_mask = np.asarray(np.sum(M, axis = 0) == 0).flatten()\n",
    "    M[:,col_mask] = 1 / nodes\n",
    "    return pagerank_pi(M, epsilon, max_iterations)\n",
    "    "
   ]
  },
  {
   "cell_type": "code",
   "execution_count": 5,
   "metadata": {},
   "outputs": [
    {
     "name": "stdout",
     "output_type": "stream",
     "text": [
      "\n",
      "M is\n",
      " [[ 0.5  0.5  0. ]\n",
      " [ 0.5  0.   0. ]\n",
      " [ 0.   0.5  0. ]]\n",
      "\n",
      "Rank for graph with dead end is  [[ 0.46153852  0.30769235  0.23076926]]\n"
     ]
    }
   ],
   "source": [
    "#Dead end problem\n",
    "M = np.matrix([[0.5, 0.5, 0], [0.5, 0, 0], [0, 0.5, 0]], dtype = np.float32)\n",
    "print('\\nM is\\n', M)\n",
    "rank, _ = pagerank_with_teleport(M)\n",
    "print('\\nRank for graph with dead end is ', rank.flatten())"
   ]
  },
  {
   "cell_type": "markdown",
   "metadata": {},
   "source": [
    "\n",
    "As seen above, the dead end node didnt drive down all the weights to 0 and appropriate rank givem to all the pages with the node with dead end given least weight.\n",
    "\n",
    "#### How Teleports solve the problem\n",
    "\n",
    "TODO"
   ]
  },
  {
   "cell_type": "code",
   "execution_count": null,
   "metadata": {
    "collapsed": true
   },
   "outputs": [],
   "source": []
  }
 ],
 "metadata": {
  "kernelspec": {
   "display_name": "Python 3",
   "language": "python",
   "name": "python3"
  },
  "language_info": {
   "codemirror_mode": {
    "name": "ipython",
    "version": 3
   },
   "file_extension": ".py",
   "mimetype": "text/x-python",
   "name": "python",
   "nbconvert_exporter": "python",
   "pygments_lexer": "ipython3",
   "version": "3.6.1"
  }
 },
 "nbformat": 4,
 "nbformat_minor": 2
}
