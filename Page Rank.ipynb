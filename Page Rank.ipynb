{
 "cells": [
  {
   "cell_type": "markdown",
   "metadata": {},
   "source": [
    "## Page Rank\n",
    "\n",
    "#### Flow Formulation\n",
    "\n",
    "Consider the following graph\n",
    "\n",
    "![Graph](SampleGraph.png)\n",
    "\n",
    "The Importance of a node is the proportional to the importance of the incoming node\n",
    "\n",
    "thus \n",
    "\n",
    "$r_y\\:=\\:\\frac{r_y}{2} + \\frac{r_a}{2}$\n",
    "\n",
    "$r_a\\:=\\:\\frac{r_y}{2} + r_m$\n",
    "\n",
    "$r_m\\:=\\:\\frac{r_a}{2}$\n",
    "\n",
    "We can therefore say\n",
    "$r_j\\:=\\:\\sum_{i \\to y}\\frac{r_i}{d_i}$\n",
    "\n",
    "where $d_i$ is the out degree of node i. We add additional constraint $r_y+r_m+r_a = 1$. We can use gaussian elimination to solve these three unknown with the four available equations.\n",
    "\n",
    "#### Matrix formulation.\n",
    "\n",
    "The above formulation can be expressed in terms of matrix. If we have a link between i and j $i \\to j$, then we set $M_{ji} = \\frac{1}{d_i}$ else set $M_{ji} = 0$. By doing this we ensure that the sum of values in the column add to 1. In other words, M is column stochastic.\n",
    "\n",
    "For the matrix M, if we read values across the rows, we essentially see all the incoming edges and their weight.\n",
    "\n",
    "Recall for all $i \\to j$, we have $r_j\\:=\\:\\sum_{i \\to y}\\frac{r_i}{d_i}$ We therefore can express the above formulation in matrix form as $r\\:=\\:M \\cdot r$. Also for the above graph, the flow equations given above can be expressed as matrix as follows\n",
    "\n",
    "$\\begin{bmatrix}\n",
    "    r_y \\\\\n",
    "    r_a \\\\\n",
    "    r_m  \n",
    "\\end{bmatrix}$\n",
    "=\n",
    "$\\begin{bmatrix}\n",
    "    \\frac{1}{2}       & \\frac{1}{2} & 0 \\\\\n",
    "    \\frac{1}{2}      & 0 & 1 \\\\\n",
    "    0       & \\frac{1}{2} & 0  \n",
    "\\end{bmatrix} \\cdot$\n",
    "$\\begin{bmatrix}\n",
    "    r_y \\\\\n",
    "    r_a \\\\\n",
    "    y_m  \n",
    "\\end{bmatrix}$\n",
    "\n",
    "\n",
    "Lets compute the pagerank below by finding eigen vectors and values"
   ]
  },
  {
   "cell_type": "code",
   "execution_count": 17,
   "metadata": {},
   "outputs": [
    {
     "name": "stdout",
     "output_type": "stream",
     "text": [
      "Page ranks are  [[ 0.40000001  0.40000001  0.2       ]]\n"
     ]
    }
   ],
   "source": [
    "from numpy import linalg as LA\n",
    "import numpy as np\n",
    "M = np.matrix([[0.5, 0.5, 0], [0.5, 0, 1], [0, 0.5, 0]], dtype = np.float32) #for float64 we get rounding error\n",
    "ev, evec = LA.eig(M)\n",
    "ranks = evec[:, ev == 1]\n",
    "#ranks need to sum up to 1, normalize them\n",
    "ranks /= sum(ranks)\n",
    "print('Page ranks are ', ranks.flatten())"
   ]
  },
  {
   "cell_type": "markdown",
   "metadata": {},
   "source": [
    "\n",
    "#### Power Iteration Method\n",
    "\n",
    "The following method is power iteration methos where we iterate to solve $r = M \\cdot r$ \n",
    "till $\\vert r^{(t)} - r^{(t + 1)} \\vert < \\epsilon$. Let us implement Power iteration method below"
   ]
  },
  {
   "cell_type": "code",
   "execution_count": 31,
   "metadata": {},
   "outputs": [
    {
     "name": "stdout",
     "output_type": "stream",
     "text": [
      "Page rank by power iteration is  [[ 0.4  0.4  0.2]] , found in 81  iterations\n"
     ]
    }
   ],
   "source": [
    "def pagerank_pa(M, epsilon = 0.00000001):\n",
    "    numpages = M.shape[1]\n",
    "    r = np.matrix(np.ones(numpages)).reshape((-1, 1)) / numpages\n",
    "    r_new = M * r\n",
    "    iters = 1\n",
    "    while np.max(np.abs(r_new - r)) > epsilon:\n",
    "        r = r_new\n",
    "        r_new = M * r\n",
    "        iters += 1\n",
    "    \n",
    "    return r_new, iters\n",
    "\n",
    "\n",
    "r, iters = pagerank_pa(M)\n",
    "print('Page rank by power iteration is ', r.flatten(), ', found in', iters, ' iterations')"
   ]
  },
  {
   "cell_type": "markdown",
   "metadata": {},
   "source": [
    "#### Random Walk Interpretation"
   ]
  },
  {
   "cell_type": "code",
   "execution_count": null,
   "metadata": {
    "collapsed": true
   },
   "outputs": [],
   "source": []
  }
 ],
 "metadata": {
  "kernelspec": {
   "display_name": "Python 3",
   "language": "python",
   "name": "python3"
  },
  "language_info": {
   "codemirror_mode": {
    "name": "ipython",
    "version": 3
   },
   "file_extension": ".py",
   "mimetype": "text/x-python",
   "name": "python",
   "nbconvert_exporter": "python",
   "pygments_lexer": "ipython3",
   "version": "3.6.1"
  }
 },
 "nbformat": 4,
 "nbformat_minor": 2
}
